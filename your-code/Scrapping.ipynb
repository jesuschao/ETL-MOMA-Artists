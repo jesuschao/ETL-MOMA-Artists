{
 "cells": [
  {
   "cell_type": "markdown",
   "metadata": {},
   "source": [
    "# Enrich data base with scraping"
   ]
  },
  {
   "cell_type": "markdown",
   "metadata": {},
   "source": [
    "### EDUCATIONAL DATA (Creativity index)"
   ]
  },
  {
   "cell_type": "code",
   "execution_count": 3,
   "metadata": {},
   "outputs": [],
   "source": [
    "# Import libraries\n",
    "import pandas as pd\n",
    "import re\n",
    "import requests as req\n",
    "from bs4 import BeautifulSoup as bs\n",
    "import json\n",
    "import warnings\n",
    "warnings.simplefilter('ignore')\n",
    "from sqlalchemy import create_engine"
   ]
  },
  {
   "cell_type": "code",
   "execution_count": 4,
   "metadata": {},
   "outputs": [],
   "source": [
    "url = 'http://chartsbin.com/view/41109'"
   ]
  },
  {
   "cell_type": "code",
   "execution_count": 5,
   "metadata": {},
   "outputs": [],
   "source": [
    "html=req.get(url).content"
   ]
  },
  {
   "cell_type": "code",
   "execution_count": 6,
   "metadata": {},
   "outputs": [
    {
     "data": {
      "text/plain": [
       "bs4.BeautifulSoup"
      ]
     },
     "execution_count": 6,
     "metadata": {},
     "output_type": "execute_result"
    }
   ],
   "source": [
    "soup=bs(html, 'html.parser')\n",
    "type(soup)"
   ]
  },
  {
   "cell_type": "code",
   "execution_count": 7,
   "metadata": {},
   "outputs": [
    {
     "data": {
      "text/plain": [
       "bs4.element.Tag"
      ]
     },
     "execution_count": 7,
     "metadata": {},
     "output_type": "execute_result"
    }
   ],
   "source": [
    "tabla=soup.find('table')\n",
    "\n",
    "type(tabla)"
   ]
  },
  {
   "cell_type": "code",
   "execution_count": 8,
   "metadata": {},
   "outputs": [
    {
     "data": {
      "text/plain": [
       "[['Rank',\n",
       "  'Country',\n",
       "  'Technology',\n",
       "  'Talent',\n",
       "  'Tolerance',\n",
       "  'Global Creativity Index'],\n",
       " ['1', 'Australia', '7', '1', '4', '0.97'],\n",
       " ['2', 'United States', '4', '3', '11', '0.95'],\n",
       " ['3', 'New Zealand', '7', '8', '3', '0.949'],\n",
       " ['4', 'Canada', '13', '14', '1', '0.92']]"
      ]
     },
     "execution_count": 8,
     "metadata": {},
     "output_type": "execute_result"
    }
   ],
   "source": [
    "filas=tabla.find_all('tr')\n",
    "\n",
    "elementos=[[e.text for e in fila] for fila in filas]\n",
    "elementos[:5]"
   ]
  },
  {
   "cell_type": "code",
   "execution_count": 9,
   "metadata": {},
   "outputs": [
    {
     "data": {
      "text/html": [
       "<div>\n",
       "<style scoped>\n",
       "    .dataframe tbody tr th:only-of-type {\n",
       "        vertical-align: middle;\n",
       "    }\n",
       "\n",
       "    .dataframe tbody tr th {\n",
       "        vertical-align: top;\n",
       "    }\n",
       "\n",
       "    .dataframe thead th {\n",
       "        text-align: right;\n",
       "    }\n",
       "</style>\n",
       "<table border=\"1\" class=\"dataframe\">\n",
       "  <thead>\n",
       "    <tr style=\"text-align: right;\">\n",
       "      <th></th>\n",
       "      <th>Rank</th>\n",
       "      <th>Country</th>\n",
       "      <th>Technology</th>\n",
       "      <th>Talent</th>\n",
       "      <th>Tolerance</th>\n",
       "      <th>Global_Creativity_Index</th>\n",
       "    </tr>\n",
       "  </thead>\n",
       "  <tbody>\n",
       "    <tr>\n",
       "      <th>0</th>\n",
       "      <td>1</td>\n",
       "      <td>Australia</td>\n",
       "      <td>7</td>\n",
       "      <td>1</td>\n",
       "      <td>4</td>\n",
       "      <td>0.97</td>\n",
       "    </tr>\n",
       "    <tr>\n",
       "      <th>1</th>\n",
       "      <td>2</td>\n",
       "      <td>United States</td>\n",
       "      <td>4</td>\n",
       "      <td>3</td>\n",
       "      <td>11</td>\n",
       "      <td>0.95</td>\n",
       "    </tr>\n",
       "    <tr>\n",
       "      <th>2</th>\n",
       "      <td>3</td>\n",
       "      <td>New Zealand</td>\n",
       "      <td>7</td>\n",
       "      <td>8</td>\n",
       "      <td>3</td>\n",
       "      <td>0.949</td>\n",
       "    </tr>\n",
       "    <tr>\n",
       "      <th>3</th>\n",
       "      <td>4</td>\n",
       "      <td>Canada</td>\n",
       "      <td>13</td>\n",
       "      <td>14</td>\n",
       "      <td>1</td>\n",
       "      <td>0.92</td>\n",
       "    </tr>\n",
       "    <tr>\n",
       "      <th>4</th>\n",
       "      <td>5</td>\n",
       "      <td>Denmark</td>\n",
       "      <td>10</td>\n",
       "      <td>6</td>\n",
       "      <td>13</td>\n",
       "      <td>0.917</td>\n",
       "    </tr>\n",
       "  </tbody>\n",
       "</table>\n",
       "</div>"
      ],
      "text/plain": [
       "  Rank        Country Technology Talent Tolerance Global_Creativity_Index\n",
       "0    1      Australia          7      1         4                    0.97\n",
       "1    2  United States          4      3        11                    0.95\n",
       "2    3    New Zealand          7      8         3                   0.949\n",
       "3    4         Canada         13     14         1                    0.92\n",
       "4    5        Denmark         10      6        13                   0.917"
      ]
     },
     "execution_count": 9,
     "metadata": {},
     "output_type": "execute_result"
    }
   ],
   "source": [
    "col_names=elementos[0]\n",
    "\n",
    "data=elementos[1:]\n",
    "\n",
    "education=pd.DataFrame(data, columns=['Rank', 'Country', 'Technology', 'Talent', 'Tolerance',\n",
    "       'Global_Creativity_Index'])\n",
    "\n",
    "education.head(5)\n"
   ]
  },
  {
   "cell_type": "code",
   "execution_count": 42,
   "metadata": {},
   "outputs": [],
   "source": [
    "education.to_csv(\"education.csv\", index = False)"
   ]
  },
  {
   "cell_type": "markdown",
   "metadata": {},
   "source": [
    "### ECONOMY (GDP)"
   ]
  },
  {
   "cell_type": "markdown",
   "metadata": {},
   "source": [
    "I find the GDP of 4 years distributed on the last 50 years to make the avareage and obtain a value closer to the reality of these years. I have chosen these years; 1980, 1999, 2010 and 2020."
   ]
  },
  {
   "cell_type": "markdown",
   "metadata": {},
   "source": [
    "Año 1980"
   ]
  },
  {
   "cell_type": "code",
   "execution_count": 10,
   "metadata": {},
   "outputs": [],
   "source": [
    "url = 'https://countryeconomy.com/gdp?year=1980'"
   ]
  },
  {
   "cell_type": "code",
   "execution_count": 11,
   "metadata": {},
   "outputs": [],
   "source": [
    "html=req.get(url).content"
   ]
  },
  {
   "cell_type": "code",
   "execution_count": 12,
   "metadata": {},
   "outputs": [
    {
     "data": {
      "text/plain": [
       "bs4.BeautifulSoup"
      ]
     },
     "execution_count": 12,
     "metadata": {},
     "output_type": "execute_result"
    }
   ],
   "source": [
    "soup=bs(html, 'html.parser')\n",
    "type(soup)"
   ]
  },
  {
   "cell_type": "code",
   "execution_count": 13,
   "metadata": {},
   "outputs": [
    {
     "data": {
      "text/plain": [
       "bs4.element.Tag"
      ]
     },
     "execution_count": 13,
     "metadata": {},
     "output_type": "execute_result"
    }
   ],
   "source": [
    "tabla=soup.find('table')\n",
    "\n",
    "type(tabla)"
   ]
  },
  {
   "cell_type": "code",
   "execution_count": 14,
   "metadata": {},
   "outputs": [
    {
     "data": {
      "text/plain": [
       "[['Countries', 'Date', 'Annual GDP', 'Annual GDP', 'GDP Growth (%)'],\n",
       " ['United States', '1980', '', '', '$2,857,300M', '', '-0.3%', ''],\n",
       " ['Euro zone', '1980', '', '', '$2,962,181M', '', '', ''],\n",
       " ['United Kingdom', '1980', '€406,184M', '', '$603,983M', '', '-2.0%', ''],\n",
       " ['Germany', '1980', '€610,968M', '', '$853,705M', '', '1.4%', '']]"
      ]
     },
     "execution_count": 14,
     "metadata": {},
     "output_type": "execute_result"
    }
   ],
   "source": [
    "filas=tabla.find_all('tr')\n",
    "\n",
    "elementos=[[e.text.replace(\"\\xa0M€\", \"\").replace(\"\\xa0M$\", \"\").replace(\"[+]\", \"\").strip() for e in fila] for fila in filas]\n",
    "\n",
    "elementos[:5]"
   ]
  },
  {
   "cell_type": "code",
   "execution_count": 15,
   "metadata": {},
   "outputs": [
    {
     "data": {
      "text/plain": [
       "[['Countries', 'Date', 'Annual GDP', 'Annual GDP', 'GDP Growth (%)'],\n",
       " ['United States', '1980', '$2,857,300M', '-0.3%'],\n",
       " ['Euro zone', '1980', '$2,962,181M'],\n",
       " ['United Kingdom', '1980', '€406,184M', '$603,983M', '-2.0%'],\n",
       " ['Germany', '1980', '€610,968M', '$853,705M', '1.4%']]"
      ]
     },
     "execution_count": 15,
     "metadata": {},
     "output_type": "execute_result"
    }
   ],
   "source": [
    "gdp_80=[]\n",
    "\n",
    "\n",
    "for e in elementos:\n",
    "    tmp=[]\n",
    "\n",
    "    for st in e:\n",
    "        if st!='':\n",
    "            tmp.append(st)\n",
    "    gdp_80.append(tmp)\n",
    "    \n",
    "gdp_80[:5]"
   ]
  },
  {
   "cell_type": "code",
   "execution_count": 16,
   "metadata": {},
   "outputs": [],
   "source": [
    "columnas = ['Country', 'Date', 'AnnualGDP', 'AnnualGDP', 'GDP _Growth_percentage']"
   ]
  },
  {
   "cell_type": "code",
   "execution_count": 18,
   "metadata": {},
   "outputs": [
    {
     "data": {
      "text/html": [
       "<div>\n",
       "<style scoped>\n",
       "    .dataframe tbody tr th:only-of-type {\n",
       "        vertical-align: middle;\n",
       "    }\n",
       "\n",
       "    .dataframe tbody tr th {\n",
       "        vertical-align: top;\n",
       "    }\n",
       "\n",
       "    .dataframe thead th {\n",
       "        text-align: right;\n",
       "    }\n",
       "</style>\n",
       "<table border=\"1\" class=\"dataframe\">\n",
       "  <thead>\n",
       "    <tr style=\"text-align: right;\">\n",
       "      <th></th>\n",
       "      <th>Country</th>\n",
       "      <th>Date</th>\n",
       "      <th>AnnualGDP</th>\n",
       "      <th>AnnualGDP</th>\n",
       "      <th>GDP _Growth_percentage</th>\n",
       "    </tr>\n",
       "  </thead>\n",
       "  <tbody>\n",
       "    <tr>\n",
       "      <th>0</th>\n",
       "      <td>United States</td>\n",
       "      <td>1980</td>\n",
       "      <td>$2,857,300M</td>\n",
       "      <td>-0.3%</td>\n",
       "      <td>None</td>\n",
       "    </tr>\n",
       "    <tr>\n",
       "      <th>1</th>\n",
       "      <td>Euro zone</td>\n",
       "      <td>1980</td>\n",
       "      <td>$2,962,181M</td>\n",
       "      <td>None</td>\n",
       "      <td>None</td>\n",
       "    </tr>\n",
       "    <tr>\n",
       "      <th>2</th>\n",
       "      <td>United Kingdom</td>\n",
       "      <td>1980</td>\n",
       "      <td>€406,184M</td>\n",
       "      <td>$603,983M</td>\n",
       "      <td>-2.0%</td>\n",
       "    </tr>\n",
       "    <tr>\n",
       "      <th>3</th>\n",
       "      <td>Germany</td>\n",
       "      <td>1980</td>\n",
       "      <td>€610,968M</td>\n",
       "      <td>$853,705M</td>\n",
       "      <td>1.4%</td>\n",
       "    </tr>\n",
       "    <tr>\n",
       "      <th>4</th>\n",
       "      <td>France</td>\n",
       "      <td>1980</td>\n",
       "      <td>€504,931M</td>\n",
       "      <td>$701,305M</td>\n",
       "      <td>1.6%</td>\n",
       "    </tr>\n",
       "  </tbody>\n",
       "</table>\n",
       "</div>"
      ],
      "text/plain": [
       "          Country  Date    AnnualGDP  AnnualGDP GDP _Growth_percentage\n",
       "0   United States  1980  $2,857,300M      -0.3%                   None\n",
       "1       Euro zone  1980  $2,962,181M       None                   None\n",
       "2  United Kingdom  1980    €406,184M  $603,983M                  -2.0%\n",
       "3         Germany  1980    €610,968M  $853,705M                   1.4%\n",
       "4          France  1980    €504,931M  $701,305M                   1.6%"
      ]
     },
     "execution_count": 18,
     "metadata": {},
     "output_type": "execute_result"
    }
   ],
   "source": [
    "col_names=gdp_80[0]\n",
    "\n",
    "data=gdp_80[1:]\n",
    "\n",
    "df_80=pd.DataFrame(data, columns=columnas)\n",
    "\n",
    "df_80.head(5)"
   ]
  },
  {
   "cell_type": "code",
   "execution_count": 43,
   "metadata": {},
   "outputs": [],
   "source": [
    "df_80.to_csv(\"df_80.csv\", index = False)"
   ]
  },
  {
   "cell_type": "markdown",
   "metadata": {},
   "source": [
    "Año 1999"
   ]
  },
  {
   "cell_type": "code",
   "execution_count": 20,
   "metadata": {},
   "outputs": [],
   "source": [
    "url = 'https://countryeconomy.com/gdp?year=1999'"
   ]
  },
  {
   "cell_type": "code",
   "execution_count": 21,
   "metadata": {},
   "outputs": [],
   "source": [
    "html=req.get(url).content"
   ]
  },
  {
   "cell_type": "code",
   "execution_count": 22,
   "metadata": {},
   "outputs": [
    {
     "data": {
      "text/plain": [
       "bs4.BeautifulSoup"
      ]
     },
     "execution_count": 22,
     "metadata": {},
     "output_type": "execute_result"
    }
   ],
   "source": [
    "soup=bs(html, 'html.parser')\n",
    "type(soup)"
   ]
  },
  {
   "cell_type": "code",
   "execution_count": 23,
   "metadata": {},
   "outputs": [
    {
     "data": {
      "text/plain": [
       "bs4.element.Tag"
      ]
     },
     "execution_count": 23,
     "metadata": {},
     "output_type": "execute_result"
    }
   ],
   "source": [
    "tabla=soup.find('table')\n",
    "\n",
    "type(tabla)"
   ]
  },
  {
   "cell_type": "code",
   "execution_count": 24,
   "metadata": {},
   "outputs": [
    {
     "data": {
      "text/plain": [
       "[['Countries', 'Date', 'Annual GDP', 'Annual GDP', 'GDP Growth (%)'],\n",
       " ['United States', '1999', '€9,036,592M', '', '$9,631,200M', '', '4.8%', ''],\n",
       " ['Euro zone', '1999', '€6,456,826M', '', '$7,113,797M', '', '2.9%', ''],\n",
       " ['United Kingdom', '1999', '€1,578,395M', '', '$1,682,590M', '', '3.3%', ''],\n",
       " ['Germany', '1999', '€2,059,480M', '', '$2,197,130M', '', '1.9%', '']]"
      ]
     },
     "execution_count": 24,
     "metadata": {},
     "output_type": "execute_result"
    }
   ],
   "source": [
    "filas=tabla.find_all('tr')\n",
    "\n",
    "elementos=[[e.text.replace(\"\\xa0M€\", \"\").replace(\"\\xa0M$\", \"\").replace(\"[+]\", \"\").strip() for e in fila] for fila in filas]\n",
    "\n",
    "elementos[:5]"
   ]
  },
  {
   "cell_type": "code",
   "execution_count": 25,
   "metadata": {},
   "outputs": [
    {
     "data": {
      "text/plain": [
       "[['Countries', 'Date', 'Annual GDP', 'Annual GDP', 'GDP Growth (%)'],\n",
       " ['United States', '1999', '€9,036,592M', '$9,631,200M', '4.8%'],\n",
       " ['Euro zone', '1999', '€6,456,826M', '$7,113,797M', '2.9%'],\n",
       " ['United Kingdom', '1999', '€1,578,395M', '$1,682,590M', '3.3%'],\n",
       " ['Germany', '1999', '€2,059,480M', '$2,197,130M', '1.9%']]"
      ]
     },
     "execution_count": 25,
     "metadata": {},
     "output_type": "execute_result"
    }
   ],
   "source": [
    "gdp_99=[]\n",
    "\n",
    "\n",
    "for e in elementos:\n",
    "    tmp=[]\n",
    "\n",
    "    for st in e:\n",
    "        if st!='':\n",
    "            tmp.append(st)\n",
    "    gdp_99.append(tmp)\n",
    "    \n",
    "gdp_99[:5]"
   ]
  },
  {
   "cell_type": "code",
   "execution_count": 27,
   "metadata": {},
   "outputs": [
    {
     "data": {
      "text/html": [
       "<div>\n",
       "<style scoped>\n",
       "    .dataframe tbody tr th:only-of-type {\n",
       "        vertical-align: middle;\n",
       "    }\n",
       "\n",
       "    .dataframe tbody tr th {\n",
       "        vertical-align: top;\n",
       "    }\n",
       "\n",
       "    .dataframe thead th {\n",
       "        text-align: right;\n",
       "    }\n",
       "</style>\n",
       "<table border=\"1\" class=\"dataframe\">\n",
       "  <thead>\n",
       "    <tr style=\"text-align: right;\">\n",
       "      <th></th>\n",
       "      <th>Country</th>\n",
       "      <th>Date</th>\n",
       "      <th>AnnualGDP</th>\n",
       "      <th>AnnualGDP</th>\n",
       "      <th>GDP _Growth_percentage</th>\n",
       "    </tr>\n",
       "  </thead>\n",
       "  <tbody>\n",
       "    <tr>\n",
       "      <th>0</th>\n",
       "      <td>United States</td>\n",
       "      <td>1999</td>\n",
       "      <td>€9,036,592M</td>\n",
       "      <td>$9,631,200M</td>\n",
       "      <td>4.8%</td>\n",
       "    </tr>\n",
       "    <tr>\n",
       "      <th>1</th>\n",
       "      <td>Euro zone</td>\n",
       "      <td>1999</td>\n",
       "      <td>€6,456,826M</td>\n",
       "      <td>$7,113,797M</td>\n",
       "      <td>2.9%</td>\n",
       "    </tr>\n",
       "    <tr>\n",
       "      <th>2</th>\n",
       "      <td>United Kingdom</td>\n",
       "      <td>1999</td>\n",
       "      <td>€1,578,395M</td>\n",
       "      <td>$1,682,590M</td>\n",
       "      <td>3.3%</td>\n",
       "    </tr>\n",
       "  </tbody>\n",
       "</table>\n",
       "</div>"
      ],
      "text/plain": [
       "          Country  Date    AnnualGDP    AnnualGDP GDP _Growth_percentage\n",
       "0   United States  1999  €9,036,592M  $9,631,200M                   4.8%\n",
       "1       Euro zone  1999  €6,456,826M  $7,113,797M                   2.9%\n",
       "2  United Kingdom  1999  €1,578,395M  $1,682,590M                   3.3%"
      ]
     },
     "execution_count": 27,
     "metadata": {},
     "output_type": "execute_result"
    }
   ],
   "source": [
    "col_names=gdp_99[0]\n",
    "\n",
    "data=gdp_99[1:]\n",
    "\n",
    "df_99=pd.DataFrame(data, columns=columnas)\n",
    "\n",
    "df_99.head(3)"
   ]
  },
  {
   "cell_type": "code",
   "execution_count": 44,
   "metadata": {},
   "outputs": [],
   "source": [
    "df_99.to_csv(\"df_99.csv\", index = False)"
   ]
  },
  {
   "cell_type": "markdown",
   "metadata": {},
   "source": [
    "Año 2010"
   ]
  },
  {
   "cell_type": "code",
   "execution_count": 28,
   "metadata": {},
   "outputs": [],
   "source": [
    "url = 'https://countryeconomy.com/gdp?year=2010'"
   ]
  },
  {
   "cell_type": "code",
   "execution_count": 29,
   "metadata": {},
   "outputs": [],
   "source": [
    "html=req.get(url).content"
   ]
  },
  {
   "cell_type": "code",
   "execution_count": 30,
   "metadata": {},
   "outputs": [
    {
     "data": {
      "text/plain": [
       "bs4.BeautifulSoup"
      ]
     },
     "execution_count": 30,
     "metadata": {},
     "output_type": "execute_result"
    }
   ],
   "source": [
    "soup=bs(html, 'html.parser')\n",
    "type(soup)"
   ]
  },
  {
   "cell_type": "code",
   "execution_count": 31,
   "metadata": {},
   "outputs": [
    {
     "data": {
      "text/plain": [
       "bs4.element.Tag"
      ]
     },
     "execution_count": 31,
     "metadata": {},
     "output_type": "execute_result"
    }
   ],
   "source": [
    "tabla=soup.find('table')\n",
    "\n",
    "type(tabla)"
   ]
  },
  {
   "cell_type": "code",
   "execution_count": 32,
   "metadata": {},
   "outputs": [
    {
     "data": {
      "text/plain": [
       "[['Countries', 'Date', 'Annual GDP', 'Annual GDP', 'GDP Growth (%)'],\n",
       " ['United States', '2010', '€11,351,739M', '', '$15,049,000M', '', '2.7%', ''],\n",
       " ['Euro zone', '2010', '€9,472,472M', '', '$12,629,070M', '', '2.2%', ''],\n",
       " ['United Kingdom', '2010', '€1,872,176M', '', '$2,484,020M', '', '2.1%', ''],\n",
       " ['Germany', '2010', '€2,564,400M', '', '$3,402,440M', '', '4.2%', '']]"
      ]
     },
     "execution_count": 32,
     "metadata": {},
     "output_type": "execute_result"
    }
   ],
   "source": [
    "filas=tabla.find_all('tr')\n",
    "\n",
    "elementos=[[e.text.replace(\"\\xa0M€\", \"\").replace(\"\\xa0M$\", \"\").replace(\"[+]\", \"\").strip() for e in fila] for fila in filas]\n",
    "\n",
    "elementos[:5]"
   ]
  },
  {
   "cell_type": "code",
   "execution_count": 33,
   "metadata": {},
   "outputs": [
    {
     "data": {
      "text/plain": [
       "[['Countries', 'Date', 'Annual GDP', 'Annual GDP', 'GDP Growth (%)'],\n",
       " ['United States', '2010', '€11,351,739M', '$15,049,000M', '2.7%'],\n",
       " ['Euro zone', '2010', '€9,472,472M', '$12,629,070M', '2.2%'],\n",
       " ['United Kingdom', '2010', '€1,872,176M', '$2,484,020M', '2.1%'],\n",
       " ['Germany', '2010', '€2,564,400M', '$3,402,440M', '4.2%']]"
      ]
     },
     "execution_count": 33,
     "metadata": {},
     "output_type": "execute_result"
    }
   ],
   "source": [
    "gdp_10=[]\n",
    "\n",
    "\n",
    "for e in elementos:\n",
    "    tmp=[]\n",
    "\n",
    "    for st in e:\n",
    "        if st!='':\n",
    "            tmp.append(st)\n",
    "    gdp_10.append(tmp)\n",
    "    \n",
    "gdp_10[:5]"
   ]
  },
  {
   "cell_type": "code",
   "execution_count": 34,
   "metadata": {},
   "outputs": [
    {
     "data": {
      "text/html": [
       "<div>\n",
       "<style scoped>\n",
       "    .dataframe tbody tr th:only-of-type {\n",
       "        vertical-align: middle;\n",
       "    }\n",
       "\n",
       "    .dataframe tbody tr th {\n",
       "        vertical-align: top;\n",
       "    }\n",
       "\n",
       "    .dataframe thead th {\n",
       "        text-align: right;\n",
       "    }\n",
       "</style>\n",
       "<table border=\"1\" class=\"dataframe\">\n",
       "  <thead>\n",
       "    <tr style=\"text-align: right;\">\n",
       "      <th></th>\n",
       "      <th>Country</th>\n",
       "      <th>Date</th>\n",
       "      <th>AnnualGDP</th>\n",
       "      <th>AnnualGDP</th>\n",
       "      <th>GDP _Growth_percentage</th>\n",
       "    </tr>\n",
       "  </thead>\n",
       "  <tbody>\n",
       "    <tr>\n",
       "      <th>0</th>\n",
       "      <td>United States</td>\n",
       "      <td>2010</td>\n",
       "      <td>€11,351,739M</td>\n",
       "      <td>$15,049,000M</td>\n",
       "      <td>2.7%</td>\n",
       "    </tr>\n",
       "    <tr>\n",
       "      <th>1</th>\n",
       "      <td>Euro zone</td>\n",
       "      <td>2010</td>\n",
       "      <td>€9,472,472M</td>\n",
       "      <td>$12,629,070M</td>\n",
       "      <td>2.2%</td>\n",
       "    </tr>\n",
       "    <tr>\n",
       "      <th>2</th>\n",
       "      <td>United Kingdom</td>\n",
       "      <td>2010</td>\n",
       "      <td>€1,872,176M</td>\n",
       "      <td>$2,484,020M</td>\n",
       "      <td>2.1%</td>\n",
       "    </tr>\n",
       "  </tbody>\n",
       "</table>\n",
       "</div>"
      ],
      "text/plain": [
       "          Country  Date     AnnualGDP     AnnualGDP GDP _Growth_percentage\n",
       "0   United States  2010  €11,351,739M  $15,049,000M                   2.7%\n",
       "1       Euro zone  2010   €9,472,472M  $12,629,070M                   2.2%\n",
       "2  United Kingdom  2010   €1,872,176M   $2,484,020M                   2.1%"
      ]
     },
     "execution_count": 34,
     "metadata": {},
     "output_type": "execute_result"
    }
   ],
   "source": [
    "col_names=gdp_10[0]\n",
    "\n",
    "data=gdp_10[1:]\n",
    "\n",
    "df_10=pd.DataFrame(data, columns=columnas)\n",
    "\n",
    "df_10.head(3)"
   ]
  },
  {
   "cell_type": "code",
   "execution_count": 45,
   "metadata": {},
   "outputs": [],
   "source": [
    "df_10.to_csv(\"df_10.csv\", index = False)"
   ]
  },
  {
   "cell_type": "markdown",
   "metadata": {},
   "source": [
    "Año 2020"
   ]
  },
  {
   "cell_type": "code",
   "execution_count": 35,
   "metadata": {},
   "outputs": [],
   "source": [
    "url='https://countryeconomy.com/gdp?year=2020'"
   ]
  },
  {
   "cell_type": "code",
   "execution_count": 36,
   "metadata": {},
   "outputs": [],
   "source": [
    "html=req.get(url).content"
   ]
  },
  {
   "cell_type": "code",
   "execution_count": 37,
   "metadata": {},
   "outputs": [
    {
     "data": {
      "text/plain": [
       "bs4.BeautifulSoup"
      ]
     },
     "execution_count": 37,
     "metadata": {},
     "output_type": "execute_result"
    }
   ],
   "source": [
    "soup=bs(html, 'html.parser')\n",
    "type(soup)"
   ]
  },
  {
   "cell_type": "code",
   "execution_count": 38,
   "metadata": {},
   "outputs": [
    {
     "data": {
      "text/plain": [
       "bs4.element.Tag"
      ]
     },
     "execution_count": 38,
     "metadata": {},
     "output_type": "execute_result"
    }
   ],
   "source": [
    "tabla=soup.find('table')\n",
    "\n",
    "type(tabla)"
   ]
  },
  {
   "cell_type": "code",
   "execution_count": 39,
   "metadata": {},
   "outputs": [
    {
     "data": {
      "text/plain": [
       "['France', '2020', '€2,302,860M', '', '$2,624,420M', '', '-7.9%', '']"
      ]
     },
     "execution_count": 39,
     "metadata": {},
     "output_type": "execute_result"
    }
   ],
   "source": [
    "filas=tabla.find_all('tr')\n",
    "\n",
    "elementos=[[e.text.replace(\"\\xa0M€\", \"\").replace(\"\\xa0M$\", \"\").replace(\"[+]\", \"\").strip() for e in fila] for fila in filas]\n",
    "\n",
    "elementos[5]"
   ]
  },
  {
   "cell_type": "code",
   "execution_count": 40,
   "metadata": {},
   "outputs": [
    {
     "data": {
      "text/plain": [
       "[['Countries', 'Date', 'Annual GDP', 'Annual GDP', 'GDP Growth (%)'],\n",
       " ['United States', '2020', '€18,292,506M', '$20,893,700M', '-3.4%'],\n",
       " ['Euro zone', '2020', '€11,400,271M', '$13,021,206M', '-6.4%'],\n",
       " ['United Kingdom', '2020', '€2,423,371M', '$2,709,680M', '-9.7%'],\n",
       " ['Germany', '2020', '€3,367,560M', '$3,843,340M', '-4.6%']]"
      ]
     },
     "execution_count": 40,
     "metadata": {},
     "output_type": "execute_result"
    }
   ],
   "source": [
    "gdp_20=[]\n",
    "\n",
    "\n",
    "for e in elementos:\n",
    "    tmp=[]\n",
    "\n",
    "    for st in e:\n",
    "        if st!='':\n",
    "            tmp.append(st)\n",
    "    gdp_20.append(tmp)\n",
    "    \n",
    "gdp_20[:5]"
   ]
  },
  {
   "cell_type": "code",
   "execution_count": 41,
   "metadata": {},
   "outputs": [
    {
     "data": {
      "text/html": [
       "<div>\n",
       "<style scoped>\n",
       "    .dataframe tbody tr th:only-of-type {\n",
       "        vertical-align: middle;\n",
       "    }\n",
       "\n",
       "    .dataframe tbody tr th {\n",
       "        vertical-align: top;\n",
       "    }\n",
       "\n",
       "    .dataframe thead th {\n",
       "        text-align: right;\n",
       "    }\n",
       "</style>\n",
       "<table border=\"1\" class=\"dataframe\">\n",
       "  <thead>\n",
       "    <tr style=\"text-align: right;\">\n",
       "      <th></th>\n",
       "      <th>Country</th>\n",
       "      <th>Date</th>\n",
       "      <th>AnnualGDP</th>\n",
       "      <th>AnnualGDP</th>\n",
       "      <th>GDP _Growth_percentage</th>\n",
       "    </tr>\n",
       "  </thead>\n",
       "  <tbody>\n",
       "    <tr>\n",
       "      <th>0</th>\n",
       "      <td>United States</td>\n",
       "      <td>2020</td>\n",
       "      <td>€18,292,506M</td>\n",
       "      <td>$20,893,700M</td>\n",
       "      <td>-3.4%</td>\n",
       "    </tr>\n",
       "    <tr>\n",
       "      <th>1</th>\n",
       "      <td>Euro zone</td>\n",
       "      <td>2020</td>\n",
       "      <td>€11,400,271M</td>\n",
       "      <td>$13,021,206M</td>\n",
       "      <td>-6.4%</td>\n",
       "    </tr>\n",
       "    <tr>\n",
       "      <th>2</th>\n",
       "      <td>United Kingdom</td>\n",
       "      <td>2020</td>\n",
       "      <td>€2,423,371M</td>\n",
       "      <td>$2,709,680M</td>\n",
       "      <td>-9.7%</td>\n",
       "    </tr>\n",
       "  </tbody>\n",
       "</table>\n",
       "</div>"
      ],
      "text/plain": [
       "          Country  Date     AnnualGDP     AnnualGDP GDP _Growth_percentage\n",
       "0   United States  2020  €18,292,506M  $20,893,700M                  -3.4%\n",
       "1       Euro zone  2020  €11,400,271M  $13,021,206M                  -6.4%\n",
       "2  United Kingdom  2020   €2,423,371M   $2,709,680M                  -9.7%"
      ]
     },
     "execution_count": 41,
     "metadata": {},
     "output_type": "execute_result"
    }
   ],
   "source": [
    "col_names=gdp_20[0]\n",
    "\n",
    "data=gdp_20[1:]\n",
    "\n",
    "df_20=pd.DataFrame(data, columns=columnas)\n",
    "\n",
    "df_20.head(3)"
   ]
  },
  {
   "cell_type": "code",
   "execution_count": 46,
   "metadata": {},
   "outputs": [],
   "source": [
    "df_20.to_csv(\"df_20.csv\", index = False)"
   ]
  },
  {
   "cell_type": "code",
   "execution_count": null,
   "metadata": {},
   "outputs": [],
   "source": []
  }
 ],
 "metadata": {
  "kernelspec": {
   "display_name": "ironhack",
   "language": "python",
   "name": "ironhack"
  },
  "language_info": {
   "codemirror_mode": {
    "name": "ipython",
    "version": 3
   },
   "file_extension": ".py",
   "mimetype": "text/x-python",
   "name": "python",
   "nbconvert_exporter": "python",
   "pygments_lexer": "ipython3",
   "version": "3.8.5"
  }
 },
 "nbformat": 4,
 "nbformat_minor": 4
}
