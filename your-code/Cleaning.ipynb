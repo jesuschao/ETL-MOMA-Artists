{
 "cells": [
  {
   "cell_type": "code",
   "execution_count": 1,
   "id": "49cb69da",
   "metadata": {},
   "outputs": [],
   "source": [
    "# Import libraries\n",
    "import pandas as pd\n",
    "import re\n",
    "import requests as req\n",
    "from bs4 import BeautifulSoup as bs\n",
    "import json\n",
    "import warnings\n",
    "warnings.simplefilter('ignore')\n",
    "from sqlalchemy import create_engine"
   ]
  },
  {
   "cell_type": "code",
   "execution_count": 2,
   "id": "cd8c2c8a",
   "metadata": {},
   "outputs": [],
   "source": [
    "# Cleaning functions (py file) placed in src folder.\n",
    "import sys\n",
    "sys.path.append(\"../\")\n",
    "from src.cleaning import *"
   ]
  },
  {
   "cell_type": "code",
   "execution_count": null,
   "id": "11f987e3",
   "metadata": {},
   "outputs": [],
   "source": []
  },
  {
   "cell_type": "markdown",
   "id": "d664b2a2",
   "metadata": {},
   "source": [
    "# Import data"
   ]
  },
  {
   "cell_type": "code",
   "execution_count": 3,
   "id": "e9cb57cc",
   "metadata": {},
   "outputs": [
    {
     "data": {
      "text/html": [
       "<div>\n",
       "<style scoped>\n",
       "    .dataframe tbody tr th:only-of-type {\n",
       "        vertical-align: middle;\n",
       "    }\n",
       "\n",
       "    .dataframe tbody tr th {\n",
       "        vertical-align: top;\n",
       "    }\n",
       "\n",
       "    .dataframe thead th {\n",
       "        text-align: right;\n",
       "    }\n",
       "</style>\n",
       "<table border=\"1\" class=\"dataframe\">\n",
       "  <thead>\n",
       "    <tr style=\"text-align: right;\">\n",
       "      <th></th>\n",
       "      <th>Title</th>\n",
       "      <th>Artist</th>\n",
       "      <th>ConstituentID</th>\n",
       "      <th>ArtistBio</th>\n",
       "      <th>Nationality</th>\n",
       "      <th>BeginDate</th>\n",
       "      <th>EndDate</th>\n",
       "      <th>Gender</th>\n",
       "      <th>Date</th>\n",
       "      <th>Medium</th>\n",
       "      <th>...</th>\n",
       "      <th>ThumbnailURL</th>\n",
       "      <th>Circumference (cm)</th>\n",
       "      <th>Depth (cm)</th>\n",
       "      <th>Diameter (cm)</th>\n",
       "      <th>Height (cm)</th>\n",
       "      <th>Length (cm)</th>\n",
       "      <th>Weight (kg)</th>\n",
       "      <th>Width (cm)</th>\n",
       "      <th>Seat Height (cm)</th>\n",
       "      <th>Duration (sec.)</th>\n",
       "    </tr>\n",
       "  </thead>\n",
       "  <tbody>\n",
       "    <tr>\n",
       "      <th>0</th>\n",
       "      <td>Ferdinandsbrücke Project, Vienna, Austria, Ele...</td>\n",
       "      <td>Otto Wagner</td>\n",
       "      <td>6210</td>\n",
       "      <td>(Austrian, 1841–1918)</td>\n",
       "      <td>(Austrian)</td>\n",
       "      <td>(1841)</td>\n",
       "      <td>(1918)</td>\n",
       "      <td>(Male)</td>\n",
       "      <td>1896</td>\n",
       "      <td>Ink and cut-and-pasted painted pages on paper</td>\n",
       "      <td>...</td>\n",
       "      <td>http://www.moma.org/media/W1siZiIsIjU5NDA1Il0s...</td>\n",
       "      <td>NaN</td>\n",
       "      <td>NaN</td>\n",
       "      <td>NaN</td>\n",
       "      <td>48.6000</td>\n",
       "      <td>NaN</td>\n",
       "      <td>NaN</td>\n",
       "      <td>168.9000</td>\n",
       "      <td>NaN</td>\n",
       "      <td>NaN</td>\n",
       "    </tr>\n",
       "    <tr>\n",
       "      <th>1</th>\n",
       "      <td>City of Music, National Superior Conservatory ...</td>\n",
       "      <td>Christian de Portzamparc</td>\n",
       "      <td>7470</td>\n",
       "      <td>(French, born 1944)</td>\n",
       "      <td>(French)</td>\n",
       "      <td>(1944)</td>\n",
       "      <td>(0)</td>\n",
       "      <td>(Male)</td>\n",
       "      <td>1987</td>\n",
       "      <td>Paint and colored pencil on print</td>\n",
       "      <td>...</td>\n",
       "      <td>http://www.moma.org/media/W1siZiIsIjk3Il0sWyJw...</td>\n",
       "      <td>NaN</td>\n",
       "      <td>NaN</td>\n",
       "      <td>NaN</td>\n",
       "      <td>40.6401</td>\n",
       "      <td>NaN</td>\n",
       "      <td>NaN</td>\n",
       "      <td>29.8451</td>\n",
       "      <td>NaN</td>\n",
       "      <td>NaN</td>\n",
       "    </tr>\n",
       "    <tr>\n",
       "      <th>2</th>\n",
       "      <td>Villa near Vienna Project, Outside Vienna, Aus...</td>\n",
       "      <td>Emil Hoppe</td>\n",
       "      <td>7605</td>\n",
       "      <td>(Austrian, 1876–1957)</td>\n",
       "      <td>(Austrian)</td>\n",
       "      <td>(1876)</td>\n",
       "      <td>(1957)</td>\n",
       "      <td>(Male)</td>\n",
       "      <td>1903</td>\n",
       "      <td>Graphite, pen, color pencil, ink, and gouache ...</td>\n",
       "      <td>...</td>\n",
       "      <td>http://www.moma.org/media/W1siZiIsIjk4Il0sWyJw...</td>\n",
       "      <td>NaN</td>\n",
       "      <td>NaN</td>\n",
       "      <td>NaN</td>\n",
       "      <td>34.3000</td>\n",
       "      <td>NaN</td>\n",
       "      <td>NaN</td>\n",
       "      <td>31.8000</td>\n",
       "      <td>NaN</td>\n",
       "      <td>NaN</td>\n",
       "    </tr>\n",
       "  </tbody>\n",
       "</table>\n",
       "<p>3 rows × 29 columns</p>\n",
       "</div>"
      ],
      "text/plain": [
       "                                               Title  \\\n",
       "0  Ferdinandsbrücke Project, Vienna, Austria, Ele...   \n",
       "1  City of Music, National Superior Conservatory ...   \n",
       "2  Villa near Vienna Project, Outside Vienna, Aus...   \n",
       "\n",
       "                     Artist ConstituentID              ArtistBio Nationality  \\\n",
       "0               Otto Wagner          6210  (Austrian, 1841–1918)  (Austrian)   \n",
       "1  Christian de Portzamparc          7470    (French, born 1944)    (French)   \n",
       "2                Emil Hoppe          7605  (Austrian, 1876–1957)  (Austrian)   \n",
       "\n",
       "  BeginDate EndDate  Gender  Date  \\\n",
       "0    (1841)  (1918)  (Male)  1896   \n",
       "1    (1944)     (0)  (Male)  1987   \n",
       "2    (1876)  (1957)  (Male)  1903   \n",
       "\n",
       "                                              Medium  ...  \\\n",
       "0      Ink and cut-and-pasted painted pages on paper  ...   \n",
       "1                  Paint and colored pencil on print  ...   \n",
       "2  Graphite, pen, color pencil, ink, and gouache ...  ...   \n",
       "\n",
       "                                        ThumbnailURL Circumference (cm)  \\\n",
       "0  http://www.moma.org/media/W1siZiIsIjU5NDA1Il0s...                NaN   \n",
       "1  http://www.moma.org/media/W1siZiIsIjk3Il0sWyJw...                NaN   \n",
       "2  http://www.moma.org/media/W1siZiIsIjk4Il0sWyJw...                NaN   \n",
       "\n",
       "  Depth (cm) Diameter (cm) Height (cm) Length (cm) Weight (kg)  Width (cm)  \\\n",
       "0        NaN           NaN     48.6000         NaN         NaN    168.9000   \n",
       "1        NaN           NaN     40.6401         NaN         NaN     29.8451   \n",
       "2        NaN           NaN     34.3000         NaN         NaN     31.8000   \n",
       "\n",
       "  Seat Height (cm) Duration (sec.)  \n",
       "0              NaN             NaN  \n",
       "1              NaN             NaN  \n",
       "2              NaN             NaN  \n",
       "\n",
       "[3 rows x 29 columns]"
      ]
     },
     "execution_count": 3,
     "metadata": {},
     "output_type": "execute_result"
    }
   ],
   "source": [
    "# Import data\n",
    "df=pd.read_csv(\"../data/Artworks.csv\")\n",
    "\n",
    "df.head(3)"
   ]
  },
  {
   "cell_type": "markdown",
   "id": "07a33bf6",
   "metadata": {},
   "source": [
    "# Data examination"
   ]
  },
  {
   "cell_type": "code",
   "execution_count": 4,
   "id": "ea606810",
   "metadata": {},
   "outputs": [],
   "source": [
    "artist = list(df.Artist.unique())"
   ]
  },
  {
   "cell_type": "code",
   "execution_count": 5,
   "id": "4beaf4e6",
   "metadata": {},
   "outputs": [
    {
     "data": {
      "text/plain": [
       "13863"
      ]
     },
     "execution_count": 5,
     "metadata": {},
     "output_type": "execute_result"
    }
   ],
   "source": [
    "len(artist)"
   ]
  },
  {
   "cell_type": "code",
   "execution_count": 6,
   "id": "725056c8",
   "metadata": {},
   "outputs": [
    {
     "data": {
      "text/plain": [
       "(132403, 29)"
      ]
     },
     "execution_count": 6,
     "metadata": {},
     "output_type": "execute_result"
    }
   ],
   "source": [
    "df.shape"
   ]
  },
  {
   "cell_type": "code",
   "execution_count": 7,
   "id": "0e31c9ac",
   "metadata": {},
   "outputs": [
    {
     "data": {
      "text/plain": [
       "Title                     45\n",
       "Artist                  1461\n",
       "ConstituentID           1461\n",
       "ArtistBio               4734\n",
       "Nationality             1461\n",
       "BeginDate               1461\n",
       "EndDate                 1461\n",
       "Gender                  1461\n",
       "Date                    2166\n",
       "Medium                 11225\n",
       "Dimensions             11243\n",
       "CreditLine              2924\n",
       "AccessionNumber            0\n",
       "Classification             0\n",
       "Department                 0\n",
       "DateAcquired            5994\n",
       "Cataloged                  0\n",
       "ObjectID                   0\n",
       "URL                    57280\n",
       "ThumbnailURL           68263\n",
       "Circumference (cm)    132393\n",
       "Depth (cm)            120479\n",
       "Diameter (cm)         130985\n",
       "Height (cm)            18765\n",
       "Length (cm)           131665\n",
       "Weight (kg)           132110\n",
       "Width (cm)             19664\n",
       "Seat Height (cm)      132403\n",
       "Duration (sec.)       129258\n",
       "dtype: int64"
      ]
     },
     "execution_count": 7,
     "metadata": {},
     "output_type": "execute_result"
    }
   ],
   "source": [
    "df.isnull().sum()"
   ]
  },
  {
   "cell_type": "markdown",
   "id": "b01a7a7b",
   "metadata": {},
   "source": [
    "# CLEANING"
   ]
  },
  {
   "cell_type": "markdown",
   "id": "202841cb",
   "metadata": {},
   "source": [
    "Drop columns non useful"
   ]
  },
  {
   "cell_type": "code",
   "execution_count": 8,
   "id": "fb0c65b8",
   "metadata": {},
   "outputs": [],
   "source": [
    "# DROP columns that are not useful for my analysis.\n",
    "df1 = df.drop([\"Title\", \"ConstituentID\", \"ArtistBio\",\"Medium\",\"ThumbnailURL\", \"BeginDate\", \"Gender\", \"EndDate\", \"Circumference (cm)\", \"Depth (cm)\", \"Diameter (cm)\", \"Height (cm)\", \"Length (cm)\", \"Weight (kg)\", \"Width (cm)\", \"Seat Height (cm)\", \"Duration (sec.)\", \"Dimensions\", \"CreditLine\", \"AccessionNumber\", \"Department\", \"DateAcquired\", \"Cataloged\", \"ObjectID\", \"URL\"],axis=1)"
   ]
  },
  {
   "cell_type": "code",
   "execution_count": 9,
   "id": "2b09d962",
   "metadata": {},
   "outputs": [
    {
     "data": {
      "text/html": [
       "<div>\n",
       "<style scoped>\n",
       "    .dataframe tbody tr th:only-of-type {\n",
       "        vertical-align: middle;\n",
       "    }\n",
       "\n",
       "    .dataframe tbody tr th {\n",
       "        vertical-align: top;\n",
       "    }\n",
       "\n",
       "    .dataframe thead th {\n",
       "        text-align: right;\n",
       "    }\n",
       "</style>\n",
       "<table border=\"1\" class=\"dataframe\">\n",
       "  <thead>\n",
       "    <tr style=\"text-align: right;\">\n",
       "      <th></th>\n",
       "      <th>Artist</th>\n",
       "      <th>Nationality</th>\n",
       "      <th>Date</th>\n",
       "      <th>Classification</th>\n",
       "    </tr>\n",
       "  </thead>\n",
       "  <tbody>\n",
       "    <tr>\n",
       "      <th>101355</th>\n",
       "      <td>George Maciunas</td>\n",
       "      <td>(American)</td>\n",
       "      <td>NaN</td>\n",
       "      <td>(not assigned)</td>\n",
       "    </tr>\n",
       "  </tbody>\n",
       "</table>\n",
       "</div>"
      ],
      "text/plain": [
       "                 Artist Nationality Date  Classification\n",
       "101355  George Maciunas  (American)  NaN  (not assigned)"
      ]
     },
     "execution_count": 9,
     "metadata": {},
     "output_type": "execute_result"
    }
   ],
   "source": [
    "df1.sample()"
   ]
  },
  {
   "cell_type": "markdown",
   "id": "fa08c3c8",
   "metadata": {},
   "source": [
    "Cleaning column date"
   ]
  },
  {
   "cell_type": "code",
   "execution_count": 10,
   "id": "cbc2ad83",
   "metadata": {},
   "outputs": [],
   "source": [
    "# Cleaning \"date\" column to obtain an integer year.\n",
    "date = list(df1.Date.unique())"
   ]
  },
  {
   "cell_type": "code",
   "execution_count": 11,
   "id": "151becbb",
   "metadata": {
    "scrolled": true
   },
   "outputs": [
    {
     "data": {
      "text/plain": [
       "['1896', '1987', '1903', '1980', '1976-77']"
      ]
     },
     "execution_count": 11,
     "metadata": {},
     "output_type": "execute_result"
    }
   ],
   "source": [
    "date[:5]"
   ]
  },
  {
   "cell_type": "code",
   "execution_count": 12,
   "id": "a7f791f3",
   "metadata": {},
   "outputs": [],
   "source": [
    "df1['year'] = df1['Date'].str.extract(r\"(\\d+)\")"
   ]
  },
  {
   "cell_type": "code",
   "execution_count": 13,
   "id": "7149927b",
   "metadata": {},
   "outputs": [
    {
     "data": {
      "text/html": [
       "<div>\n",
       "<style scoped>\n",
       "    .dataframe tbody tr th:only-of-type {\n",
       "        vertical-align: middle;\n",
       "    }\n",
       "\n",
       "    .dataframe tbody tr th {\n",
       "        vertical-align: top;\n",
       "    }\n",
       "\n",
       "    .dataframe thead th {\n",
       "        text-align: right;\n",
       "    }\n",
       "</style>\n",
       "<table border=\"1\" class=\"dataframe\">\n",
       "  <thead>\n",
       "    <tr style=\"text-align: right;\">\n",
       "      <th></th>\n",
       "      <th>Artist</th>\n",
       "      <th>Nationality</th>\n",
       "      <th>Date</th>\n",
       "      <th>Classification</th>\n",
       "      <th>year</th>\n",
       "    </tr>\n",
       "  </thead>\n",
       "  <tbody>\n",
       "    <tr>\n",
       "      <th>0</th>\n",
       "      <td>Otto Wagner</td>\n",
       "      <td>(Austrian)</td>\n",
       "      <td>1896</td>\n",
       "      <td>Architecture</td>\n",
       "      <td>1896</td>\n",
       "    </tr>\n",
       "    <tr>\n",
       "      <th>1</th>\n",
       "      <td>Christian de Portzamparc</td>\n",
       "      <td>(French)</td>\n",
       "      <td>1987</td>\n",
       "      <td>Architecture</td>\n",
       "      <td>1987</td>\n",
       "    </tr>\n",
       "    <tr>\n",
       "      <th>2</th>\n",
       "      <td>Emil Hoppe</td>\n",
       "      <td>(Austrian)</td>\n",
       "      <td>1903</td>\n",
       "      <td>Architecture</td>\n",
       "      <td>1903</td>\n",
       "    </tr>\n",
       "  </tbody>\n",
       "</table>\n",
       "</div>"
      ],
      "text/plain": [
       "                     Artist Nationality  Date Classification  year\n",
       "0               Otto Wagner  (Austrian)  1896   Architecture  1896\n",
       "1  Christian de Portzamparc    (French)  1987   Architecture  1987\n",
       "2                Emil Hoppe  (Austrian)  1903   Architecture  1903"
      ]
     },
     "execution_count": 13,
     "metadata": {},
     "output_type": "execute_result"
    }
   ],
   "source": [
    "df1.head(3)"
   ]
  },
  {
   "cell_type": "code",
   "execution_count": 14,
   "id": "f74d7777",
   "metadata": {},
   "outputs": [],
   "source": [
    "# Dropping column \"Date\"; I am going to use \"year\" column.\n",
    "df1 = df1.drop([\"Date\"],axis=1)"
   ]
  },
  {
   "cell_type": "code",
   "execution_count": 15,
   "id": "06b531a8",
   "metadata": {},
   "outputs": [
    {
     "data": {
      "text/html": [
       "<div>\n",
       "<style scoped>\n",
       "    .dataframe tbody tr th:only-of-type {\n",
       "        vertical-align: middle;\n",
       "    }\n",
       "\n",
       "    .dataframe tbody tr th {\n",
       "        vertical-align: top;\n",
       "    }\n",
       "\n",
       "    .dataframe thead th {\n",
       "        text-align: right;\n",
       "    }\n",
       "</style>\n",
       "<table border=\"1\" class=\"dataframe\">\n",
       "  <thead>\n",
       "    <tr style=\"text-align: right;\">\n",
       "      <th></th>\n",
       "      <th>Artist</th>\n",
       "      <th>Nationality</th>\n",
       "      <th>Classification</th>\n",
       "      <th>year</th>\n",
       "    </tr>\n",
       "  </thead>\n",
       "  <tbody>\n",
       "    <tr>\n",
       "      <th>105423</th>\n",
       "      <td>Carl Otto Czeschka</td>\n",
       "      <td>(Austrian)</td>\n",
       "      <td>Illustrated Book</td>\n",
       "      <td>1920</td>\n",
       "    </tr>\n",
       "  </tbody>\n",
       "</table>\n",
       "</div>"
      ],
      "text/plain": [
       "                    Artist Nationality    Classification  year\n",
       "105423  Carl Otto Czeschka  (Austrian)  Illustrated Book  1920"
      ]
     },
     "execution_count": 15,
     "metadata": {},
     "output_type": "execute_result"
    }
   ],
   "source": [
    "df1.sample()"
   ]
  },
  {
   "cell_type": "code",
   "execution_count": 16,
   "id": "0c610633",
   "metadata": {},
   "outputs": [],
   "source": [
    "# Drop rows that have NaN in year column.\n",
    "df1 = df1[df1['year'].notna()]"
   ]
  },
  {
   "cell_type": "code",
   "execution_count": 17,
   "id": "2b194682",
   "metadata": {},
   "outputs": [
    {
     "data": {
      "text/plain": [
       "'def integrar(x):\\n        return int(x)'"
      ]
     },
     "execution_count": 17,
     "metadata": {},
     "output_type": "execute_result"
    }
   ],
   "source": [
    "\"\"\"def integrar(x):\n",
    "        return int(x)\"\"\""
   ]
  },
  {
   "cell_type": "code",
   "execution_count": 18,
   "id": "08c6224e",
   "metadata": {},
   "outputs": [
    {
     "data": {
      "text/plain": [
       "<function src.cleaning.integrar(x)>"
      ]
     },
     "execution_count": 18,
     "metadata": {},
     "output_type": "execute_result"
    }
   ],
   "source": [
    "integrar"
   ]
  },
  {
   "cell_type": "code",
   "execution_count": 19,
   "id": "9516b0d4",
   "metadata": {},
   "outputs": [],
   "source": [
    "df1[\"year\"] = df1.year.apply(integrar)"
   ]
  },
  {
   "cell_type": "code",
   "execution_count": 20,
   "id": "00d69801",
   "metadata": {},
   "outputs": [],
   "source": [
    "# I focus on the exhibitions from the last 50 years.\n",
    "df2 = df1[df1[\"year\"]>=1972]"
   ]
  },
  {
   "cell_type": "code",
   "execution_count": 21,
   "id": "7d0f898d",
   "metadata": {},
   "outputs": [
    {
     "data": {
      "text/plain": [
       "(42319, 4)"
      ]
     },
     "execution_count": 21,
     "metadata": {},
     "output_type": "execute_result"
    }
   ],
   "source": [
    "df2.shape"
   ]
  },
  {
   "cell_type": "code",
   "execution_count": 22,
   "id": "3c696ede",
   "metadata": {},
   "outputs": [],
   "source": [
    "# Elimino los NaN en la columna artist.\n",
    "df2 = df2[df2['Artist'].notna()]"
   ]
  },
  {
   "cell_type": "code",
   "execution_count": 23,
   "id": "29bde5cc",
   "metadata": {},
   "outputs": [],
   "source": [
    "artist = list(df2.Artist)"
   ]
  },
  {
   "cell_type": "code",
   "execution_count": 24,
   "id": "fae70ade",
   "metadata": {},
   "outputs": [
    {
     "data": {
      "text/plain": [
       "['Christian de Portzamparc',\n",
       " 'Bernard Tschumi',\n",
       " 'Bernard Tschumi',\n",
       " 'Bernard Tschumi',\n",
       " 'Bernard Tschumi']"
      ]
     },
     "execution_count": 24,
     "metadata": {},
     "output_type": "execute_result"
    }
   ],
   "source": [
    "artist[:5]"
   ]
  },
  {
   "cell_type": "markdown",
   "id": "91816b56",
   "metadata": {},
   "source": [
    "Cleaning column Artist."
   ]
  },
  {
   "cell_type": "code",
   "execution_count": 25,
   "id": "92ace4f5",
   "metadata": {},
   "outputs": [
    {
     "data": {
      "text/plain": [
       "'def split(x):\\n    return x.split(\",\")'"
      ]
     },
     "execution_count": 25,
     "metadata": {},
     "output_type": "execute_result"
    }
   ],
   "source": [
    "# I first make a split on \",\", and after that I make an \"explode\".\n",
    "\n",
    "\"\"\"def split(x):\n",
    "    return x.split(\",\")\"\"\"\n",
    "#df2['artist'] = df2['Artist'].str.split(\",\")"
   ]
  },
  {
   "cell_type": "code",
   "execution_count": 26,
   "id": "8de2f009",
   "metadata": {},
   "outputs": [
    {
     "data": {
      "text/plain": [
       "<function src.cleaning.split(x)>"
      ]
     },
     "execution_count": 26,
     "metadata": {},
     "output_type": "execute_result"
    }
   ],
   "source": [
    "split"
   ]
  },
  {
   "cell_type": "code",
   "execution_count": 27,
   "id": "2a0bb8ce",
   "metadata": {},
   "outputs": [],
   "source": [
    "df2[\"artist\"] = df2.Artist.apply(split)"
   ]
  },
  {
   "cell_type": "code",
   "execution_count": 28,
   "id": "2fcad03b",
   "metadata": {},
   "outputs": [],
   "source": [
    "art = list(df2.artist)"
   ]
  },
  {
   "cell_type": "code",
   "execution_count": 29,
   "id": "e8e89836",
   "metadata": {},
   "outputs": [
    {
     "data": {
      "text/plain": [
       "[['Christian de Portzamparc'],\n",
       " ['Bernard Tschumi'],\n",
       " ['Bernard Tschumi'],\n",
       " ['Bernard Tschumi'],\n",
       " ['Bernard Tschumi']]"
      ]
     },
     "execution_count": 29,
     "metadata": {},
     "output_type": "execute_result"
    }
   ],
   "source": [
    "art[:5]"
   ]
  },
  {
   "cell_type": "code",
   "execution_count": null,
   "id": "bce3787d",
   "metadata": {},
   "outputs": [],
   "source": []
  },
  {
   "cell_type": "markdown",
   "id": "6c0672f2",
   "metadata": {},
   "source": [
    "Cleaning column Country"
   ]
  },
  {
   "cell_type": "code",
   "execution_count": 30,
   "id": "302ae890",
   "metadata": {},
   "outputs": [
    {
     "data": {
      "text/plain": [
       "'def split2(x):\\n    return x.split(\" \")'"
      ]
     },
     "execution_count": 30,
     "metadata": {},
     "output_type": "execute_result"
    }
   ],
   "source": [
    "#LIMPIEZA columna country.\n",
    "\"\"\"def split2(x):\n",
    "    return x.split(\" \")\"\"\"\n",
    "# df2['Country'] = df2['Nationality'].str.split(\" \")"
   ]
  },
  {
   "cell_type": "code",
   "execution_count": 31,
   "id": "3e603271",
   "metadata": {},
   "outputs": [
    {
     "data": {
      "text/plain": [
       "<function src.cleaning.split2(x)>"
      ]
     },
     "execution_count": 31,
     "metadata": {},
     "output_type": "execute_result"
    }
   ],
   "source": [
    "split2"
   ]
  },
  {
   "cell_type": "code",
   "execution_count": 32,
   "id": "4929f3ef",
   "metadata": {},
   "outputs": [],
   "source": [
    "df2[\"Countries\"] = df2.Nationality.apply(split2)"
   ]
  },
  {
   "cell_type": "code",
   "execution_count": 33,
   "id": "98279eac",
   "metadata": {},
   "outputs": [],
   "source": [
    "df3 = df2.explode('artist').explode('Countries')"
   ]
  },
  {
   "cell_type": "code",
   "execution_count": 34,
   "id": "c030969b",
   "metadata": {},
   "outputs": [
    {
     "data": {
      "text/plain": [
       "'def strip(x):\\n    return x.strip()'"
      ]
     },
     "execution_count": 34,
     "metadata": {},
     "output_type": "execute_result"
    }
   ],
   "source": [
    "\"\"\"def strip(x):\n",
    "    return x.strip()\"\"\""
   ]
  },
  {
   "cell_type": "code",
   "execution_count": 35,
   "id": "bf5ef80a",
   "metadata": {},
   "outputs": [
    {
     "data": {
      "text/plain": [
       "<function src.cleaning.strip(x)>"
      ]
     },
     "execution_count": 35,
     "metadata": {},
     "output_type": "execute_result"
    }
   ],
   "source": [
    "strip"
   ]
  },
  {
   "cell_type": "code",
   "execution_count": 36,
   "id": "63bb4f93",
   "metadata": {},
   "outputs": [],
   "source": [
    "df3[\"artist\"] = df3.artist.apply(strip)"
   ]
  },
  {
   "cell_type": "code",
   "execution_count": 37,
   "id": "c04c1f2b",
   "metadata": {},
   "outputs": [],
   "source": [
    "art = list((df3.artist).unique())"
   ]
  },
  {
   "cell_type": "code",
   "execution_count": 38,
   "id": "05d31dca",
   "metadata": {},
   "outputs": [
    {
     "data": {
      "text/plain": [
       "['Christian de Portzamparc',\n",
       " 'Bernard Tschumi',\n",
       " 'Peter Eisenman',\n",
       " 'Robert Cole',\n",
       " 'Rem Koolhaas']"
      ]
     },
     "execution_count": 38,
     "metadata": {},
     "output_type": "execute_result"
    }
   ],
   "source": [
    "#At the end I obtain this list.\n",
    "art[:5]"
   ]
  },
  {
   "cell_type": "code",
   "execution_count": 39,
   "id": "0bb81b7c",
   "metadata": {},
   "outputs": [],
   "source": [
    "df3 = df3.drop([\"Artist\"],axis=1)"
   ]
  },
  {
   "cell_type": "code",
   "execution_count": 40,
   "id": "94ed2d3a",
   "metadata": {},
   "outputs": [
    {
     "data": {
      "text/html": [
       "<div>\n",
       "<style scoped>\n",
       "    .dataframe tbody tr th:only-of-type {\n",
       "        vertical-align: middle;\n",
       "    }\n",
       "\n",
       "    .dataframe tbody tr th {\n",
       "        vertical-align: top;\n",
       "    }\n",
       "\n",
       "    .dataframe thead th {\n",
       "        text-align: right;\n",
       "    }\n",
       "</style>\n",
       "<table border=\"1\" class=\"dataframe\">\n",
       "  <thead>\n",
       "    <tr style=\"text-align: right;\">\n",
       "      <th></th>\n",
       "      <th>Nationality</th>\n",
       "      <th>Classification</th>\n",
       "      <th>year</th>\n",
       "      <th>artist</th>\n",
       "      <th>Countries</th>\n",
       "    </tr>\n",
       "  </thead>\n",
       "  <tbody>\n",
       "    <tr>\n",
       "      <th>1</th>\n",
       "      <td>(French)</td>\n",
       "      <td>Architecture</td>\n",
       "      <td>1987</td>\n",
       "      <td>Christian de Portzamparc</td>\n",
       "      <td>(French)</td>\n",
       "    </tr>\n",
       "    <tr>\n",
       "      <th>3</th>\n",
       "      <td>()</td>\n",
       "      <td>Architecture</td>\n",
       "      <td>1980</td>\n",
       "      <td>Bernard Tschumi</td>\n",
       "      <td>()</td>\n",
       "    </tr>\n",
       "    <tr>\n",
       "      <th>5</th>\n",
       "      <td>()</td>\n",
       "      <td>Architecture</td>\n",
       "      <td>1976</td>\n",
       "      <td>Bernard Tschumi</td>\n",
       "      <td>()</td>\n",
       "    </tr>\n",
       "  </tbody>\n",
       "</table>\n",
       "</div>"
      ],
      "text/plain": [
       "  Nationality Classification  year                    artist Countries\n",
       "1    (French)   Architecture  1987  Christian de Portzamparc  (French)\n",
       "3          ()   Architecture  1980           Bernard Tschumi        ()\n",
       "5          ()   Architecture  1976           Bernard Tschumi        ()"
      ]
     },
     "execution_count": 40,
     "metadata": {},
     "output_type": "execute_result"
    }
   ],
   "source": [
    "df3.head(3)"
   ]
  },
  {
   "cell_type": "code",
   "execution_count": 41,
   "id": "4308ff1f",
   "metadata": {
    "scrolled": true
   },
   "outputs": [
    {
     "data": {
      "text/plain": [
       "['(French)', '()', '()', '()', '()']"
      ]
     },
     "execution_count": 41,
     "metadata": {},
     "output_type": "execute_result"
    }
   ],
   "source": [
    "list_countries = list(df3.Countries)\n",
    "list_countries[:5]"
   ]
  },
  {
   "cell_type": "code",
   "execution_count": null,
   "id": "fa55a032",
   "metadata": {},
   "outputs": [],
   "source": [
    "#Change Nationality for country.\n",
    "#df3['country'] = df3['Country'].replace(\"(French)\", \"France\").replace(\"(American)\", \"United States\").replace(\"(Italian)\", \"Italy\").replace(\"(Dutch)\", \"Netherlands\").replace(\"(British)\", \"United Kingdom\").replace(\"(Japanese)\", \"Japan\").replace(\"(Argentine)\", \"Argentina\").replace(\"(Swiss)\", \"Switzerland\").replace(\"(Luxembourgish)\", \"Luxembourg\").replace(\"(Spanish)\", \"Spain\").replace(\"(Polish)\", \"Poland\").replace(\"(Austrian)\", \"Austria\").replace(\"(Iranian)\", \"Iran\").replace(\"(German)\", \"Germany\").replace(\"(Moroccan)\", \"Morocco\").replace(\"(Danish)\", \"Denmark\").replace(\"(Canadian)\", \"Canada\").replace(\"(Brazilian)\", \"Brazil\").replace(\"(Venezuelan)\", \"Venezuela\").replace(\"(Belgian)\", \"Belgium\").replace(\"(Norwegian)\", \"Norway\").replace(\"(Finnish)\", \"Finland\").replace(\"(Swedish)\", \"Sweden\").replace(\"(Colombian)\", \"Colombia\").replace(\"(Australian)\", \"Autralia\").replace(\"(Yugoslav)\", \"Yugoslavia\").replace(\"(Nationality\", \"None\").replace(\"unknown)\", \"None\").replace(\"(Hungarian)\", \"Hungary\").replace(\"(Mexican)\", \"Mexico\").replace(\"(Greek)\", \"Greece\").replace(\"(Israeli)\", \"Israel\").replace(\"(Croatian)\", \"Croatia\").replace(\"(Cuban)\", \"Cuba\").replace(\"(Thai)\", \"Thailand\"). replace(\"(Czech)\", \"Czech Republic\").replace(\"(Chilean)\", \"Chile\").replace(\"(Various)\", \"None\").replace(\"(Romanian)\", \"Romania\").replace(\"(South\", \"South Africa\").replace(\"African)\", \"South Africa\").replace(\"(Russian)\", \"Russian Federation\").replace(\"(Congolese)\", \"Central African Republic\").replace(\"(Ukrainian)\", \"Ukraine\").replace(\"(Peruvian)\", \"Peru\").replace(\"(Indian)\", \"India\").replace(\"(Cambodian)\", \"Cambodia\").replace(\"(Haitian)\", \"Haiti\").replace(\"(Scottish)\", \"United Kingdom\").replace(\"(Korean)\", \"South Korea\").replace(\"(Slovak)\", \"Slovak Republic\").replace(\"(Estonian)\", \"Estonia\").replace(\"(Pakistani)\", \"Pakistan\").replace(\"(Icelandic)\", \"Iceland\").replace(\"(Portuguese)\", \"Portugal\").replace(\"(Chinese)\", \"China\").replace(\"(Paraguayan)\", \"Paraguay\").replace(\"(Uruguayan)\", \"Uruguay\").replace(\"(Tunisian)\", \"Tunisia\").replace(\"(Guyanese)\", \"Guatemala\").replace(\"(Senegalese)\", \"Senegal\").replace(\"(Bahamian)\", \"Cuba\").replace(\"(Turkish)\", \"Turkey\").replace(\"(Malian)\", \"Mali\").replace(\"(Bulgarian)\", \"Bulgaria\").replace(\"(New\", \"New Zealand\").replace(\"Zealander)\", \"New Zealand\").replace(\"(Irish)\", \"Ireland\").replace(\"(Lebanese)\", \"Lebanon\").replace(\"(English)\", \"United Kingdom\"). replace(\"(Welsh)\", \"United Kingdom\").replace(\"(Cypriot)\", \"Cyprus\").replace(\"(Kenyan)\", \"Kenya\").replace(\"(Syrian)\", \"Syrian Arab Republic\").replace(\"(Saudi\", \"Saudi Arabia\").replace(\"Arabian)\", \"Saudi Arabia\").replace(\"(Slovenian)\", \"Slovenia\").replace(\"(Nigerian)\", \"Central African Republic\").replace(\"(Native\", \"United States\").replace(\"American)\", \"United States\").replace(\"(Bosnian)\",\"Bosnia and Herzegovina\").replace(\"Unknown)\", \"None\").replace(\"(Kazakhstani)\", \"Kazakhstan\").replace(\"(Kyrgyzstani)\", \"Kyrgyz Republic\").replace(\"(Palestinian)\", \"Israel\").replace(\"(Catalan)\", \"Spain\").replace(\"(Vietnamese)\", \"Vietnam\").replace(\"(Indonesian)\", \"Indonesia\").replace(\"(Filipino)\", \"Philippines\").replace(\"(Guatemalan)\", \"Guatemala\").replace(\"(Egyptian)\", \"Egypt\").replace(\"(Ghanaian)\", \"Ghana\").replace(\"(Serbian)\", \"Bosnia and Herzegovina\").replace(\"(Mauritanian)\", \"Mauritania\").replace(\"(Ugandan)\", \"Uganda\").replace(\"(Taiwanese)\", \"Taiwan\").replace(\"(Albanian)\", \"Albania\").replace(\"(Malaysian)\", \"Malaysia\").replace(\"(Iraqi)\", \"Iraq\").replace(\"()\", \"None\").replace(\"(Tajik)\", \"Tajikistan\").replace(\"(Singaporean)\", \"Singapore\").replace(\"(Puerto\", \"Dominican Republic\").replace(\"Rican)\",\"Dominican Republic\").replace(\"(Zimbabwean)\", \"Zimbabwe\").replace(\"(Cameroonian)\", \"Cameroon\").replace(\"(Rwandan)\", \"Rwanda\").replace(\"(Mozambican)\", \"Mozambique\").replace(\"(Macedonian)\", \"Greece\").replace(\"(Georgian)\", \"None\").replace(\"(Sudanese)\", \"Sudan\")"
   ]
  },
  {
   "cell_type": "code",
   "execution_count": null,
   "id": "6be441df",
   "metadata": {},
   "outputs": [],
   "source": [
    "\"\"\"def replace(x):\n",
    "    return x.replace(\"(French)\", \"France\").replace(\"(American)\", \"United States\").replace(\"(Italian)\", \"Italy\")\n",
    "    .replace(\"(Dutch)\", \"Netherlands\").replace(\"(British)\", \"United Kingdom\").replace(\"(Japanese)\", \"Japan\")\n",
    "    .replace(\"(Argentine)\", \"Argentina\").replace(\"(Swiss)\", \"Switzerland\").replace(\"(Luxembourgish)\", \"Luxembourg\")\n",
    "    .replace(\"(Spanish)\", \"Spain\").replace(\"(Polish)\", \"Poland\").replace(\"(Austrian)\", \"Austria\").replace(\"(Iranian)\", \"Iran\")\n",
    "    .replace(\"(German)\", \"Germany\").replace(\"(Moroccan)\", \"Morocco\").replace(\"(Danish)\", \"Denmark\").\n",
    "    replace(\"(Canadian)\", \"Canada\").replace(\"(Brazilian)\", \"Brazil\").replace(\"(Venezuelan)\", \"Venezuela\")\n",
    "    .replace(\"(Belgian)\", \"Belgium\").replace(\"(Norwegian)\", \"Norway\").replace(\"(Finnish)\", \"Finland\")\n",
    "    .replace(\"(Swedish)\", \"Sweden\").replace(\"(Colombian)\", \"Colombia\").replace(\"(Australian)\", \"Autralia\")\n",
    "    .replace(\"(Yugoslav)\", \"Yugoslavia\").replace(\"(Nationality\", \"None\").replace(\"unknown)\", \"None\")\n",
    "    .replace(\"(Hungarian)\", \"Hungary\").replace(\"(Mexican)\", \"Mexico\").replace(\"(Greek)\", \"Greece\")\n",
    "    .replace(\"(Israeli)\", \"Israel\").replace(\"(Croatian)\", \"Croatia\").replace(\"(Cuban)\", \"Cuba\")\n",
    "    .replace(\"(Thai)\", \"Thailand\"). replace(\"(Czech)\", \"Czech Republic\").replace(\"(Chilean)\", \"Chile\")\n",
    "    .replace(\"(Various)\", \"None\").replace(\"(Romanian)\", \"Romania\").replace(\"(South\", \"South Africa\")\n",
    "    .replace(\"African)\", \"South Africa\").replace(\"(Russian)\", \"Russian Federation\")\n",
    "    .replace(\"(Congolese)\", \"Central African Republic\").replace(\"(Ukrainian)\", \"Ukraine\").replace(\"(Peruvian)\", \"Peru\")\n",
    "    .replace(\"(Indian)\", \"India\").replace(\"(Cambodian)\", \"Cambodia\").replace(\"(Haitian)\", \"Haiti\")\n",
    "    .replace(\"(Scottish)\", \"United Kingdom\").replace(\"(Korean)\", \"South Korea\").replace(\"(Slovak)\", \"Slovak Republic\")\n",
    "    .replace(\"(Estonian)\", \"Estonia\").replace(\"(Pakistani)\", \"Pakistan\").replace(\"(Icelandic)\", \"Iceland\")\n",
    "    .replace(\"(Portuguese)\", \"Portugal\").replace(\"(Chinese)\", \"China\").replace(\"(Paraguayan)\", \"Paraguay\")\n",
    "    .replace(\"(Uruguayan)\", \"Uruguay\").replace(\"(Tunisian)\", \"Tunisia\").replace(\"(Guyanese)\", \"Guatemala\")\n",
    "    .replace(\"(Senegalese)\", \"Senegal\").replace(\"(Bahamian)\", \"Cuba\").replace(\"(Turkish)\", \"Turkey\")\n",
    "    .replace(\"(Malian)\", \"Mali\").replace(\"(Bulgarian)\", \"Bulgaria\").replace(\"(New\", \"New Zealand\")\n",
    "    .replace(\"Zealander)\", \"New Zealand\").replace(\"(Irish)\", \"Ireland\").replace(\"(Lebanese)\", \"Lebanon\")\n",
    "    .replace(\"(English)\", \"United Kingdom\"). replace(\"(Welsh)\", \"United Kingdom\").replace(\"(Cypriot)\", \"Cyprus\")\n",
    "    .replace(\"(Kenyan)\", \"Kenya\").replace(\"(Syrian)\", \"Syrian Arab Republic\").replace(\"(Saudi\", \"Saudi Arabia\")\n",
    "    .replace(\"Arabian)\", \"Saudi Arabia\").replace(\"(Slovenian)\", \"Slovenia\").replace(\"(Nigerian)\", \"Central African Republic\")\n",
    "    .replace(\"(Native\", \"United States\").replace(\"American)\", \"United States\").replace(\"(Bosnian)\",\"Bosnia and Herzegovina\")\n",
    "    .replace(\"Unknown)\", \"None\").replace(\"(Kazakhstani)\", \"Kazakhstan\").replace(\"(Kyrgyzstani)\", \"Kyrgyz Republic\")\n",
    "    .replace(\"(Palestinian)\", \"Israel\").replace(\"(Catalan)\", \"Spain\").replace(\"(Vietnamese)\", \"Vietnam\")\n",
    "    .replace(\"(Indonesian)\", \"Indonesia\").replace(\"(Filipino)\", \"Philippines\").replace(\"(Guatemalan)\", \"Guatemala\")\n",
    "    .replace(\"(Egyptian)\", \"Egypt\").replace(\"(Ghanaian)\", \"Ghana\").replace(\"(Serbian)\", \"Bosnia and Herzegovina\")\n",
    "    .replace(\"(Mauritanian)\", \"Mauritania\").replace(\"(Ugandan)\", \"Uganda\").replace(\"(Taiwanese)\", \"Taiwan\")\n",
    "    .replace(\"(Albanian)\", \"Albania\").replace(\"(Malaysian)\", \"Malaysia\").replace(\"(Iraqi)\", \"Iraq\").replace(\"()\", \"None\")\n",
    "    .replace(\"(Tajik)\", \"Tajikistan\").replace(\"(Singaporean)\", \"Singapore\").replace(\"(Puerto\", \"Dominican Republic\")\n",
    "    .replace(\"Rican)\",\"Dominican Republic\").replace(\"(Zimbabwean)\", \"Zimbabwe\").replace(\"(Cameroonian)\", \"Cameroon\")\n",
    "    .replace(\"(Rwandan)\", \"Rwanda\").replace(\"(Mozambican)\", \"Mozambique\").replace(\"(Macedonian)\", \"Greece\")\n",
    "    .replace(\"(Georgian)\", \"None\").replace(\"(Sudanese)\", \"Sudan\")\"\"\""
   ]
  },
  {
   "cell_type": "code",
   "execution_count": 42,
   "id": "7dc1bc12",
   "metadata": {},
   "outputs": [
    {
     "data": {
      "text/plain": [
       "<function src.cleaning.replace(x)>"
      ]
     },
     "execution_count": 42,
     "metadata": {},
     "output_type": "execute_result"
    }
   ],
   "source": [
    "replace"
   ]
  },
  {
   "cell_type": "code",
   "execution_count": 43,
   "id": "db3851f8",
   "metadata": {},
   "outputs": [],
   "source": [
    "df3[\"country\"] = df3.Countries.apply(replace)"
   ]
  },
  {
   "cell_type": "code",
   "execution_count": 44,
   "id": "2c49883b",
   "metadata": {},
   "outputs": [],
   "source": [
    "list_country = list((df3['country']).unique())"
   ]
  },
  {
   "cell_type": "code",
   "execution_count": 45,
   "id": "d2638bb0",
   "metadata": {
    "scrolled": true
   },
   "outputs": [
    {
     "data": {
      "text/plain": [
       "['France', 'None', 'United States', 'Netherlands', 'Italy']"
      ]
     },
     "execution_count": 45,
     "metadata": {},
     "output_type": "execute_result"
    }
   ],
   "source": [
    "list_country[:5]"
   ]
  },
  {
   "cell_type": "code",
   "execution_count": 46,
   "id": "a9062eea",
   "metadata": {},
   "outputs": [],
   "source": [
    "df3 = df3.drop([\"Countries\"],axis=1)"
   ]
  },
  {
   "cell_type": "code",
   "execution_count": 47,
   "id": "2ce146c6",
   "metadata": {},
   "outputs": [],
   "source": [
    "df3 = df3.drop([\"Nationality\"],axis=1)"
   ]
  },
  {
   "cell_type": "code",
   "execution_count": 48,
   "id": "83c2abc1",
   "metadata": {},
   "outputs": [
    {
     "data": {
      "text/html": [
       "<div>\n",
       "<style scoped>\n",
       "    .dataframe tbody tr th:only-of-type {\n",
       "        vertical-align: middle;\n",
       "    }\n",
       "\n",
       "    .dataframe tbody tr th {\n",
       "        vertical-align: top;\n",
       "    }\n",
       "\n",
       "    .dataframe thead th {\n",
       "        text-align: right;\n",
       "    }\n",
       "</style>\n",
       "<table border=\"1\" class=\"dataframe\">\n",
       "  <thead>\n",
       "    <tr style=\"text-align: right;\">\n",
       "      <th></th>\n",
       "      <th>Classification</th>\n",
       "      <th>year</th>\n",
       "      <th>artist</th>\n",
       "      <th>country</th>\n",
       "    </tr>\n",
       "  </thead>\n",
       "  <tbody>\n",
       "    <tr>\n",
       "      <th>1</th>\n",
       "      <td>Architecture</td>\n",
       "      <td>1987</td>\n",
       "      <td>Christian de Portzamparc</td>\n",
       "      <td>France</td>\n",
       "    </tr>\n",
       "    <tr>\n",
       "      <th>3</th>\n",
       "      <td>Architecture</td>\n",
       "      <td>1980</td>\n",
       "      <td>Bernard Tschumi</td>\n",
       "      <td>None</td>\n",
       "    </tr>\n",
       "    <tr>\n",
       "      <th>5</th>\n",
       "      <td>Architecture</td>\n",
       "      <td>1976</td>\n",
       "      <td>Bernard Tschumi</td>\n",
       "      <td>None</td>\n",
       "    </tr>\n",
       "    <tr>\n",
       "      <th>6</th>\n",
       "      <td>Architecture</td>\n",
       "      <td>1976</td>\n",
       "      <td>Bernard Tschumi</td>\n",
       "      <td>None</td>\n",
       "    </tr>\n",
       "    <tr>\n",
       "      <th>7</th>\n",
       "      <td>Architecture</td>\n",
       "      <td>1976</td>\n",
       "      <td>Bernard Tschumi</td>\n",
       "      <td>None</td>\n",
       "    </tr>\n",
       "    <tr>\n",
       "      <th>...</th>\n",
       "      <td>...</td>\n",
       "      <td>...</td>\n",
       "      <td>...</td>\n",
       "      <td>...</td>\n",
       "    </tr>\n",
       "    <tr>\n",
       "      <th>132308</th>\n",
       "      <td>Print</td>\n",
       "      <td>2016</td>\n",
       "      <td>Christian Vinck Henriquez</td>\n",
       "      <td>Venezuela</td>\n",
       "    </tr>\n",
       "    <tr>\n",
       "      <th>132309</th>\n",
       "      <td>Multiple</td>\n",
       "      <td>2016</td>\n",
       "      <td>Christian Vinck Henriquez</td>\n",
       "      <td>Venezuela</td>\n",
       "    </tr>\n",
       "    <tr>\n",
       "      <th>132331</th>\n",
       "      <td>Illustrated Book</td>\n",
       "      <td>2015</td>\n",
       "      <td>Laura Owens</td>\n",
       "      <td>United States</td>\n",
       "    </tr>\n",
       "    <tr>\n",
       "      <th>132332</th>\n",
       "      <td>Illustrated Book</td>\n",
       "      <td>2015</td>\n",
       "      <td>Laura Owens</td>\n",
       "      <td>United States</td>\n",
       "    </tr>\n",
       "    <tr>\n",
       "      <th>132399</th>\n",
       "      <td>Video</td>\n",
       "      <td>2017</td>\n",
       "      <td>Martine Syms</td>\n",
       "      <td>United States</td>\n",
       "    </tr>\n",
       "  </tbody>\n",
       "</table>\n",
       "<p>82856 rows × 4 columns</p>\n",
       "</div>"
      ],
      "text/plain": [
       "          Classification  year                     artist        country\n",
       "1           Architecture  1987   Christian de Portzamparc         France\n",
       "3           Architecture  1980            Bernard Tschumi           None\n",
       "5           Architecture  1976            Bernard Tschumi           None\n",
       "6           Architecture  1976            Bernard Tschumi           None\n",
       "7           Architecture  1976            Bernard Tschumi           None\n",
       "...                  ...   ...                        ...            ...\n",
       "132308             Print  2016  Christian Vinck Henriquez      Venezuela\n",
       "132309          Multiple  2016  Christian Vinck Henriquez      Venezuela\n",
       "132331  Illustrated Book  2015                Laura Owens  United States\n",
       "132332  Illustrated Book  2015                Laura Owens  United States\n",
       "132399             Video  2017               Martine Syms  United States\n",
       "\n",
       "[82856 rows x 4 columns]"
      ]
     },
     "execution_count": 48,
     "metadata": {},
     "output_type": "execute_result"
    }
   ],
   "source": [
    "df3"
   ]
  },
  {
   "cell_type": "code",
   "execution_count": 49,
   "id": "0e1877ab",
   "metadata": {},
   "outputs": [],
   "source": [
    "df3.drop(df3.loc[df3['country']=='None'].index, inplace=True)"
   ]
  },
  {
   "cell_type": "code",
   "execution_count": 50,
   "id": "40c73bee",
   "metadata": {},
   "outputs": [],
   "source": [
    "df4= df3.drop_duplicates()"
   ]
  },
  {
   "cell_type": "code",
   "execution_count": 51,
   "id": "d2ca03a3",
   "metadata": {},
   "outputs": [
    {
     "data": {
      "text/html": [
       "<div>\n",
       "<style scoped>\n",
       "    .dataframe tbody tr th:only-of-type {\n",
       "        vertical-align: middle;\n",
       "    }\n",
       "\n",
       "    .dataframe tbody tr th {\n",
       "        vertical-align: top;\n",
       "    }\n",
       "\n",
       "    .dataframe thead th {\n",
       "        text-align: right;\n",
       "    }\n",
       "</style>\n",
       "<table border=\"1\" class=\"dataframe\">\n",
       "  <thead>\n",
       "    <tr style=\"text-align: right;\">\n",
       "      <th></th>\n",
       "      <th>Classification</th>\n",
       "      <th>year</th>\n",
       "      <th>artist</th>\n",
       "      <th>country</th>\n",
       "    </tr>\n",
       "  </thead>\n",
       "  <tbody>\n",
       "    <tr>\n",
       "      <th>1</th>\n",
       "      <td>Architecture</td>\n",
       "      <td>1987</td>\n",
       "      <td>Christian de Portzamparc</td>\n",
       "      <td>France</td>\n",
       "    </tr>\n",
       "    <tr>\n",
       "      <th>66</th>\n",
       "      <td>Architecture</td>\n",
       "      <td>1987</td>\n",
       "      <td>Rem Koolhaas</td>\n",
       "      <td>Netherlands</td>\n",
       "    </tr>\n",
       "    <tr>\n",
       "      <th>66</th>\n",
       "      <td>Architecture</td>\n",
       "      <td>1987</td>\n",
       "      <td>Madelon Vriesendorp</td>\n",
       "      <td>Netherlands</td>\n",
       "    </tr>\n",
       "    <tr>\n",
       "      <th>67</th>\n",
       "      <td>Architecture</td>\n",
       "      <td>1979</td>\n",
       "      <td>Roger C. Ferri</td>\n",
       "      <td>United States</td>\n",
       "    </tr>\n",
       "    <tr>\n",
       "      <th>72</th>\n",
       "      <td>Architecture</td>\n",
       "      <td>1978</td>\n",
       "      <td>Michael Graves</td>\n",
       "      <td>United States</td>\n",
       "    </tr>\n",
       "    <tr>\n",
       "      <th>...</th>\n",
       "      <td>...</td>\n",
       "      <td>...</td>\n",
       "      <td>...</td>\n",
       "      <td>...</td>\n",
       "    </tr>\n",
       "    <tr>\n",
       "      <th>132284</th>\n",
       "      <td>Multiple</td>\n",
       "      <td>2016</td>\n",
       "      <td>Nicolás Paris</td>\n",
       "      <td>Colombia</td>\n",
       "    </tr>\n",
       "    <tr>\n",
       "      <th>132288</th>\n",
       "      <td>Illustrated Book</td>\n",
       "      <td>2016</td>\n",
       "      <td>Nicolás Paris</td>\n",
       "      <td>Colombia</td>\n",
       "    </tr>\n",
       "    <tr>\n",
       "      <th>132289</th>\n",
       "      <td>Print</td>\n",
       "      <td>2016</td>\n",
       "      <td>Rosângela Rennó</td>\n",
       "      <td>Brazil</td>\n",
       "    </tr>\n",
       "    <tr>\n",
       "      <th>132290</th>\n",
       "      <td>Print</td>\n",
       "      <td>2016</td>\n",
       "      <td>Christian Vinck Henriquez</td>\n",
       "      <td>Venezuela</td>\n",
       "    </tr>\n",
       "    <tr>\n",
       "      <th>132291</th>\n",
       "      <td>Multiple</td>\n",
       "      <td>2016</td>\n",
       "      <td>Christian Vinck Henriquez</td>\n",
       "      <td>Venezuela</td>\n",
       "    </tr>\n",
       "  </tbody>\n",
       "</table>\n",
       "<p>17242 rows × 4 columns</p>\n",
       "</div>"
      ],
      "text/plain": [
       "          Classification  year                     artist        country\n",
       "1           Architecture  1987   Christian de Portzamparc         France\n",
       "66          Architecture  1987               Rem Koolhaas    Netherlands\n",
       "66          Architecture  1987        Madelon Vriesendorp    Netherlands\n",
       "67          Architecture  1979             Roger C. Ferri  United States\n",
       "72          Architecture  1978             Michael Graves  United States\n",
       "...                  ...   ...                        ...            ...\n",
       "132284          Multiple  2016              Nicolás Paris       Colombia\n",
       "132288  Illustrated Book  2016              Nicolás Paris       Colombia\n",
       "132289             Print  2016            Rosângela Rennó         Brazil\n",
       "132290             Print  2016  Christian Vinck Henriquez      Venezuela\n",
       "132291          Multiple  2016  Christian Vinck Henriquez      Venezuela\n",
       "\n",
       "[17242 rows x 4 columns]"
      ]
     },
     "execution_count": 51,
     "metadata": {},
     "output_type": "execute_result"
    }
   ],
   "source": [
    "df4"
   ]
  },
  {
   "cell_type": "code",
   "execution_count": 52,
   "id": "169d290a",
   "metadata": {},
   "outputs": [
    {
     "data": {
      "text/html": [
       "<div>\n",
       "<style scoped>\n",
       "    .dataframe tbody tr th:only-of-type {\n",
       "        vertical-align: middle;\n",
       "    }\n",
       "\n",
       "    .dataframe tbody tr th {\n",
       "        vertical-align: top;\n",
       "    }\n",
       "\n",
       "    .dataframe thead th {\n",
       "        text-align: right;\n",
       "    }\n",
       "</style>\n",
       "<table border=\"1\" class=\"dataframe\">\n",
       "  <thead>\n",
       "    <tr style=\"text-align: right;\">\n",
       "      <th></th>\n",
       "      <th>index</th>\n",
       "      <th>Classification</th>\n",
       "      <th>year</th>\n",
       "      <th>artist</th>\n",
       "      <th>country</th>\n",
       "    </tr>\n",
       "  </thead>\n",
       "  <tbody>\n",
       "    <tr>\n",
       "      <th>0</th>\n",
       "      <td>1</td>\n",
       "      <td>Architecture</td>\n",
       "      <td>1987</td>\n",
       "      <td>Christian de Portzamparc</td>\n",
       "      <td>France</td>\n",
       "    </tr>\n",
       "    <tr>\n",
       "      <th>1</th>\n",
       "      <td>66</td>\n",
       "      <td>Architecture</td>\n",
       "      <td>1987</td>\n",
       "      <td>Rem Koolhaas</td>\n",
       "      <td>Netherlands</td>\n",
       "    </tr>\n",
       "    <tr>\n",
       "      <th>2</th>\n",
       "      <td>66</td>\n",
       "      <td>Architecture</td>\n",
       "      <td>1987</td>\n",
       "      <td>Madelon Vriesendorp</td>\n",
       "      <td>Netherlands</td>\n",
       "    </tr>\n",
       "    <tr>\n",
       "      <th>3</th>\n",
       "      <td>67</td>\n",
       "      <td>Architecture</td>\n",
       "      <td>1979</td>\n",
       "      <td>Roger C. Ferri</td>\n",
       "      <td>United States</td>\n",
       "    </tr>\n",
       "    <tr>\n",
       "      <th>4</th>\n",
       "      <td>72</td>\n",
       "      <td>Architecture</td>\n",
       "      <td>1978</td>\n",
       "      <td>Michael Graves</td>\n",
       "      <td>United States</td>\n",
       "    </tr>\n",
       "    <tr>\n",
       "      <th>...</th>\n",
       "      <td>...</td>\n",
       "      <td>...</td>\n",
       "      <td>...</td>\n",
       "      <td>...</td>\n",
       "      <td>...</td>\n",
       "    </tr>\n",
       "    <tr>\n",
       "      <th>17237</th>\n",
       "      <td>132284</td>\n",
       "      <td>Multiple</td>\n",
       "      <td>2016</td>\n",
       "      <td>Nicolás Paris</td>\n",
       "      <td>Colombia</td>\n",
       "    </tr>\n",
       "    <tr>\n",
       "      <th>17238</th>\n",
       "      <td>132288</td>\n",
       "      <td>Illustrated Book</td>\n",
       "      <td>2016</td>\n",
       "      <td>Nicolás Paris</td>\n",
       "      <td>Colombia</td>\n",
       "    </tr>\n",
       "    <tr>\n",
       "      <th>17239</th>\n",
       "      <td>132289</td>\n",
       "      <td>Print</td>\n",
       "      <td>2016</td>\n",
       "      <td>Rosângela Rennó</td>\n",
       "      <td>Brazil</td>\n",
       "    </tr>\n",
       "    <tr>\n",
       "      <th>17240</th>\n",
       "      <td>132290</td>\n",
       "      <td>Print</td>\n",
       "      <td>2016</td>\n",
       "      <td>Christian Vinck Henriquez</td>\n",
       "      <td>Venezuela</td>\n",
       "    </tr>\n",
       "    <tr>\n",
       "      <th>17241</th>\n",
       "      <td>132291</td>\n",
       "      <td>Multiple</td>\n",
       "      <td>2016</td>\n",
       "      <td>Christian Vinck Henriquez</td>\n",
       "      <td>Venezuela</td>\n",
       "    </tr>\n",
       "  </tbody>\n",
       "</table>\n",
       "<p>17242 rows × 5 columns</p>\n",
       "</div>"
      ],
      "text/plain": [
       "        index    Classification  year                     artist  \\\n",
       "0           1      Architecture  1987   Christian de Portzamparc   \n",
       "1          66      Architecture  1987               Rem Koolhaas   \n",
       "2          66      Architecture  1987        Madelon Vriesendorp   \n",
       "3          67      Architecture  1979             Roger C. Ferri   \n",
       "4          72      Architecture  1978             Michael Graves   \n",
       "...       ...               ...   ...                        ...   \n",
       "17237  132284          Multiple  2016              Nicolás Paris   \n",
       "17238  132288  Illustrated Book  2016              Nicolás Paris   \n",
       "17239  132289             Print  2016            Rosângela Rennó   \n",
       "17240  132290             Print  2016  Christian Vinck Henriquez   \n",
       "17241  132291          Multiple  2016  Christian Vinck Henriquez   \n",
       "\n",
       "             country  \n",
       "0             France  \n",
       "1        Netherlands  \n",
       "2        Netherlands  \n",
       "3      United States  \n",
       "4      United States  \n",
       "...              ...  \n",
       "17237       Colombia  \n",
       "17238       Colombia  \n",
       "17239         Brazil  \n",
       "17240      Venezuela  \n",
       "17241      Venezuela  \n",
       "\n",
       "[17242 rows x 5 columns]"
      ]
     },
     "execution_count": 52,
     "metadata": {},
     "output_type": "execute_result"
    }
   ],
   "source": [
    "df4.reset_index()"
   ]
  },
  {
   "cell_type": "code",
   "execution_count": 53,
   "id": "fa814f41",
   "metadata": {},
   "outputs": [],
   "source": [
    "df4.to_csv(\"data/moma.csv\", index = False)"
   ]
  },
  {
   "cell_type": "code",
   "execution_count": null,
   "id": "8db00b08",
   "metadata": {},
   "outputs": [],
   "source": []
  }
 ],
 "metadata": {
  "kernelspec": {
   "display_name": "ironhack",
   "language": "python",
   "name": "ironhack"
  },
  "language_info": {
   "codemirror_mode": {
    "name": "ipython",
    "version": 3
   },
   "file_extension": ".py",
   "mimetype": "text/x-python",
   "name": "python",
   "nbconvert_exporter": "python",
   "pygments_lexer": "ipython3",
   "version": "3.8.5"
  }
 },
 "nbformat": 4,
 "nbformat_minor": 5
}
